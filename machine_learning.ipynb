{
  "cells": [
    {
      "cell_type": "code",
      "execution_count": 2,
      "metadata": {
        "colab": {
          "base_uri": "https://localhost:8080/"
        },
        "id": "P6QEQMZfQRQH",
        "outputId": "857dde3b-a710-41b0-cf1d-80ae28e87e5e"
      },
      "outputs": [
        {
          "name": "stdout",
          "output_type": "stream",
          "text": [
            "Requirement already satisfied: finance-datareader in /home/harnadal/anaconda3/envs/jupyter/lib/python3.9/site-packages (0.9.33)\n",
            "Requirement already satisfied: tqdm in /home/harnadal/anaconda3/envs/jupyter/lib/python3.9/site-packages (from finance-datareader) (4.64.0)\n",
            "Requirement already satisfied: lxml in /home/harnadal/anaconda3/envs/jupyter/lib/python3.9/site-packages (from finance-datareader) (4.9.0)\n",
            "Requirement already satisfied: pandas>=0.19.2 in /home/harnadal/anaconda3/envs/jupyter/lib/python3.9/site-packages (from finance-datareader) (1.4.2)\n",
            "Requirement already satisfied: requests-file in /home/harnadal/anaconda3/envs/jupyter/lib/python3.9/site-packages (from finance-datareader) (1.5.1)\n",
            "Requirement already satisfied: requests>=2.3.0 in /home/harnadal/anaconda3/envs/jupyter/lib/python3.9/site-packages (from finance-datareader) (2.27.1)\n",
            "Requirement already satisfied: pytz>=2020.1 in /home/harnadal/anaconda3/envs/jupyter/lib/python3.9/site-packages (from pandas>=0.19.2->finance-datareader) (2022.1)\n",
            "Requirement already satisfied: python-dateutil>=2.8.1 in /home/harnadal/anaconda3/envs/jupyter/lib/python3.9/site-packages (from pandas>=0.19.2->finance-datareader) (2.8.2)\n",
            "Requirement already satisfied: numpy>=1.18.5 in /home/harnadal/anaconda3/envs/jupyter/lib/python3.9/site-packages (from pandas>=0.19.2->finance-datareader) (1.22.4)\n",
            "Requirement already satisfied: certifi>=2017.4.17 in /home/harnadal/anaconda3/envs/jupyter/lib/python3.9/site-packages (from requests>=2.3.0->finance-datareader) (2021.10.8)\n",
            "Requirement already satisfied: urllib3<1.27,>=1.21.1 in /home/harnadal/anaconda3/envs/jupyter/lib/python3.9/site-packages (from requests>=2.3.0->finance-datareader) (1.26.9)\n",
            "Requirement already satisfied: idna<4,>=2.5 in /home/harnadal/anaconda3/envs/jupyter/lib/python3.9/site-packages (from requests>=2.3.0->finance-datareader) (3.3)\n",
            "Requirement already satisfied: charset-normalizer~=2.0.0 in /home/harnadal/anaconda3/envs/jupyter/lib/python3.9/site-packages (from requests>=2.3.0->finance-datareader) (2.0.12)\n",
            "Requirement already satisfied: six in /home/harnadal/anaconda3/envs/jupyter/lib/python3.9/site-packages (from requests-file->finance-datareader) (1.16.0)\n"
          ]
        }
      ],
      "source": [
        "!pip install -U finance-datareader"
      ]
    },
    {
      "cell_type": "code",
      "execution_count": 3,
      "metadata": {
        "id": "UIJKiV4VQZNX"
      },
      "outputs": [],
      "source": [
        "import pandas as pd\n",
        "import numpy as np\n",
        "\n"
      ]
    },
    {
      "cell_type": "code",
      "execution_count": 6,
      "metadata": {
        "colab": {
          "base_uri": "https://localhost:8080/",
          "height": 36
        },
        "id": "PEI_w27CQc4w",
        "outputId": "a0c6428a-1c34-4a74-8317-467b17e35ac7"
      },
      "outputs": [
        {
          "data": {
            "text/plain": [
              "'0.9.33'"
            ]
          },
          "execution_count": 6,
          "metadata": {},
          "output_type": "execute_result"
        }
      ],
      "source": [
        "import FinanceDataReader as fdr\n",
        "fdr.__version__"
      ]
    },
    {
      "cell_type": "code",
      "execution_count": 7,
      "metadata": {
        "id": "eqOT91QIQgsP"
      },
      "outputs": [],
      "source": [
        "df_kospi = fdr.StockListing(\"KOSPI\")"
      ]
    },
    {
      "cell_type": "code",
      "execution_count": 8,
      "metadata": {
        "colab": {
          "base_uri": "https://localhost:8080/"
        },
        "id": "fIKVkvrUQwEk",
        "outputId": "526919d7-5ae3-424b-d701-32a34ab01a31"
      },
      "outputs": [
        {
          "data": {
            "text/plain": [
              "5645"
            ]
          },
          "execution_count": 8,
          "metadata": {},
          "output_type": "execute_result"
        }
      ],
      "source": [
        "len(df_kospi)"
      ]
    },
    {
      "cell_type": "code",
      "execution_count": 9,
      "metadata": {
        "colab": {
          "base_uri": "https://localhost:8080/",
          "height": 739
        },
        "id": "vHXSSoeiRDpS",
        "outputId": "0e0d6414-08d1-46a6-f29f-0f50c98203f3"
      },
      "outputs": [
        {
          "data": {
            "text/html": [
              "<div>\n",
              "<style scoped>\n",
              "    .dataframe tbody tr th:only-of-type {\n",
              "        vertical-align: middle;\n",
              "    }\n",
              "\n",
              "    .dataframe tbody tr th {\n",
              "        vertical-align: top;\n",
              "    }\n",
              "\n",
              "    .dataframe thead th {\n",
              "        text-align: right;\n",
              "    }\n",
              "</style>\n",
              "<table border=\"1\" class=\"dataframe\">\n",
              "  <thead>\n",
              "    <tr style=\"text-align: right;\">\n",
              "      <th></th>\n",
              "      <th>Symbol</th>\n",
              "      <th>Market</th>\n",
              "      <th>Name</th>\n",
              "      <th>Sector</th>\n",
              "      <th>Industry</th>\n",
              "      <th>ListingDate</th>\n",
              "      <th>SettleMonth</th>\n",
              "      <th>Representative</th>\n",
              "      <th>HomePage</th>\n",
              "      <th>Region</th>\n",
              "    </tr>\n",
              "  </thead>\n",
              "  <tbody>\n",
              "    <tr>\n",
              "      <th>1</th>\n",
              "      <td>095570</td>\n",
              "      <td>KOSPI</td>\n",
              "      <td>AJ네트웍스</td>\n",
              "      <td>산업용 기계 및 장비 임대업</td>\n",
              "      <td>렌탈(파렛트, OA장비, 건설장비)</td>\n",
              "      <td>2015-08-21</td>\n",
              "      <td>12월</td>\n",
              "      <td>박대현, 손삼달</td>\n",
              "      <td>http://www.ajnet.co.kr</td>\n",
              "      <td>서울특별시</td>\n",
              "    </tr>\n",
              "    <tr>\n",
              "      <th>2</th>\n",
              "      <td>006840</td>\n",
              "      <td>KOSPI</td>\n",
              "      <td>AK홀딩스</td>\n",
              "      <td>기타 금융업</td>\n",
              "      <td>지주사업</td>\n",
              "      <td>1999-08-11</td>\n",
              "      <td>12월</td>\n",
              "      <td>채형석, 이석주(각자 대표이사)</td>\n",
              "      <td>http://www.aekyunggroup.co.kr</td>\n",
              "      <td>서울특별시</td>\n",
              "    </tr>\n",
              "    <tr>\n",
              "      <th>6</th>\n",
              "      <td>152100</td>\n",
              "      <td>KOSPI</td>\n",
              "      <td>ARIRANG 200</td>\n",
              "      <td>NaN</td>\n",
              "      <td>NaN</td>\n",
              "      <td>NaT</td>\n",
              "      <td>NaN</td>\n",
              "      <td>NaN</td>\n",
              "      <td>NaN</td>\n",
              "      <td>NaN</td>\n",
              "    </tr>\n",
              "    <tr>\n",
              "      <th>7</th>\n",
              "      <td>295820</td>\n",
              "      <td>KOSPI</td>\n",
              "      <td>ARIRANG 200동일가중</td>\n",
              "      <td>NaN</td>\n",
              "      <td>NaN</td>\n",
              "      <td>NaT</td>\n",
              "      <td>NaN</td>\n",
              "      <td>NaN</td>\n",
              "      <td>NaN</td>\n",
              "      <td>NaN</td>\n",
              "    </tr>\n",
              "    <tr>\n",
              "      <th>8</th>\n",
              "      <td>253150</td>\n",
              "      <td>KOSPI</td>\n",
              "      <td>ARIRANG 200선물레버리지</td>\n",
              "      <td>NaN</td>\n",
              "      <td>NaN</td>\n",
              "      <td>NaT</td>\n",
              "      <td>NaN</td>\n",
              "      <td>NaN</td>\n",
              "      <td>NaN</td>\n",
              "      <td>NaN</td>\n",
              "    </tr>\n",
              "    <tr>\n",
              "      <th>9</th>\n",
              "      <td>253160</td>\n",
              "      <td>KOSPI</td>\n",
              "      <td>ARIRANG 200선물인버스2X</td>\n",
              "      <td>NaN</td>\n",
              "      <td>NaN</td>\n",
              "      <td>NaT</td>\n",
              "      <td>NaN</td>\n",
              "      <td>NaN</td>\n",
              "      <td>NaN</td>\n",
              "      <td>NaN</td>\n",
              "    </tr>\n",
              "    <tr>\n",
              "      <th>10</th>\n",
              "      <td>395750</td>\n",
              "      <td>KOSPI</td>\n",
              "      <td>ARIRANG ESG가치주액티브</td>\n",
              "      <td>NaN</td>\n",
              "      <td>NaN</td>\n",
              "      <td>NaT</td>\n",
              "      <td>NaN</td>\n",
              "      <td>NaN</td>\n",
              "      <td>NaN</td>\n",
              "      <td>NaN</td>\n",
              "    </tr>\n",
              "    <tr>\n",
              "      <th>11</th>\n",
              "      <td>395760</td>\n",
              "      <td>KOSPI</td>\n",
              "      <td>ARIRANG ESG성장주액티브</td>\n",
              "      <td>NaN</td>\n",
              "      <td>NaN</td>\n",
              "      <td>NaT</td>\n",
              "      <td>NaN</td>\n",
              "      <td>NaN</td>\n",
              "      <td>NaN</td>\n",
              "      <td>NaN</td>\n",
              "    </tr>\n",
              "    <tr>\n",
              "      <th>12</th>\n",
              "      <td>278420</td>\n",
              "      <td>KOSPI</td>\n",
              "      <td>ARIRANG ESG우수기업</td>\n",
              "      <td>NaN</td>\n",
              "      <td>NaN</td>\n",
              "      <td>NaT</td>\n",
              "      <td>NaN</td>\n",
              "      <td>NaN</td>\n",
              "      <td>NaN</td>\n",
              "      <td>NaN</td>\n",
              "    </tr>\n",
              "    <tr>\n",
              "      <th>13</th>\n",
              "      <td>429740</td>\n",
              "      <td>KOSPI</td>\n",
              "      <td>ARIRANG Fn K리츠</td>\n",
              "      <td>NaN</td>\n",
              "      <td>NaN</td>\n",
              "      <td>NaT</td>\n",
              "      <td>NaN</td>\n",
              "      <td>NaN</td>\n",
              "      <td>NaN</td>\n",
              "      <td>NaN</td>\n",
              "    </tr>\n",
              "  </tbody>\n",
              "</table>\n",
              "</div>"
            ],
            "text/plain": [
              "    Symbol Market                Name           Sector             Industry  \\\n",
              "1   095570  KOSPI              AJ네트웍스  산업용 기계 및 장비 임대업  렌탈(파렛트, OA장비, 건설장비)   \n",
              "2   006840  KOSPI               AK홀딩스           기타 금융업                 지주사업   \n",
              "6   152100  KOSPI         ARIRANG 200              NaN                  NaN   \n",
              "7   295820  KOSPI     ARIRANG 200동일가중              NaN                  NaN   \n",
              "8   253150  KOSPI   ARIRANG 200선물레버리지              NaN                  NaN   \n",
              "9   253160  KOSPI  ARIRANG 200선물인버스2X              NaN                  NaN   \n",
              "10  395750  KOSPI   ARIRANG ESG가치주액티브              NaN                  NaN   \n",
              "11  395760  KOSPI   ARIRANG ESG성장주액티브              NaN                  NaN   \n",
              "12  278420  KOSPI     ARIRANG ESG우수기업              NaN                  NaN   \n",
              "13  429740  KOSPI      ARIRANG Fn K리츠              NaN                  NaN   \n",
              "\n",
              "   ListingDate SettleMonth     Representative                       HomePage  \\\n",
              "1   2015-08-21         12월           박대현, 손삼달         http://www.ajnet.co.kr   \n",
              "2   1999-08-11         12월  채형석, 이석주(각자 대표이사)  http://www.aekyunggroup.co.kr   \n",
              "6          NaT         NaN                NaN                            NaN   \n",
              "7          NaT         NaN                NaN                            NaN   \n",
              "8          NaT         NaN                NaN                            NaN   \n",
              "9          NaT         NaN                NaN                            NaN   \n",
              "10         NaT         NaN                NaN                            NaN   \n",
              "11         NaT         NaN                NaN                            NaN   \n",
              "12         NaT         NaN                NaN                            NaN   \n",
              "13         NaT         NaN                NaN                            NaN   \n",
              "\n",
              "   Region  \n",
              "1   서울특별시  \n",
              "2   서울특별시  \n",
              "6     NaN  \n",
              "7     NaN  \n",
              "8     NaN  \n",
              "9     NaN  \n",
              "10    NaN  \n",
              "11    NaN  \n",
              "12    NaN  \n",
              "13    NaN  "
            ]
          },
          "execution_count": 9,
          "metadata": {},
          "output_type": "execute_result"
        }
      ],
      "source": [
        "df_kospi.head(10)"
      ]
    },
    {
      "cell_type": "code",
      "execution_count": 10,
      "metadata": {
        "id": "QTYuFwcdS9Cx"
      },
      "outputs": [],
      "source": [
        "import csv"
      ]
    },
    {
      "cell_type": "code",
      "execution_count": 11,
      "metadata": {
        "id": "7G7SXUHqTCYH"
      },
      "outputs": [],
      "source": [
        "import os\n",
        "\n",
        "path = '/home/harnadal/Desktop/Machine_learning/kospi_price'\n",
        "file_list = os.listdir(path)\n",
        "file_list_py = [file for file in file_list if\n",
        "                file.endswith('.csv')]"
      ]
    },
    {
      "cell_type": "code",
      "execution_count": 12,
      "metadata": {},
      "outputs": [
        {
          "name": "stdout",
          "output_type": "stream",
          "text": [
            "['000060.csv', '000320.csv', '304780.csv', '298770.csv', '143460.csv', '013870.csv', '139270.csv', '277630.csv', '71901B92.csv', '002390.csv', '353200.csv', '006650.csv', '570066.csv', '093230.csv', '006660.csv', '270800.csv', '304670.csv', '322130.csv', '009290.csv', '035150.csv', '005300.csv', '008500.csv', '580031.csv', '294400.csv', '395280.csv', '138040.csv', '012690.csv', '315960.csv', '412570.csv', '72502BA2.csv', '373220.csv', '090430.csv', '510021.csv', '166400.csv', '570019.csv', '220130.csv', '071950.csv', '299080.csv', '217790.csv', '069660.csv', '003060.csv', '003000.csv', '176950.csv', '421320.csv', '007980.csv', '265690.csv', '74701776.csv', '272560.csv', '001070.csv', '426330.csv', '316140.csv', '031430.csv', '033180.csv', '003670.csv', '004450.csv', '069640.csv', '200030.csv', '005945.csv', '301400.csv', '180640.csv', '091810.csv', '010145.csv', '002150.csv', '395270.csv', '377990.csv', '001525.csv', '008700.csv', '032640.csv', '570060.csv', '580036.csv', '001290.csv', '550059.csv', '74701B8A.csv', '139220.csv', '009415.csv', '230480.csv', '284740.csv', '011000.csv', '204320.csv', '284430.csv', '175330.csv', '003075.csv', '139480.csv', '211900.csv', '401590.csv', '183190.csv', '520030.csv', '400580.csv', '006125.csv', '088980.csv', '267250.csv', '261260.csv', '73502BBC.csv', '217780.csv', '379790.csv', '272570.csv', '085310.csv', '001795.csv', '329750.csv', '002140.csv', '36328K.csv', '148070.csv', '500008.csv', '035420.csv', '140910.csv', '580029.csv', '011155.csv', '133820.csv', '000240.csv', '023350.csv', '287330.csv', '071320.csv', '117700.csv', '72801BBC.csv', '294870.csv', '090370.csv', '097950.csv', '520038.csv', '002030.csv', '284980.csv', '315270.csv', '252420.csv', '108590.csv', '015890.csv', '550072.csv', '570054.csv', '267450.csv', '006345.csv', '000157.csv', '610025.csv', '371870.csv', '016450.csv', '214320.csv', '006280.csv', '396690.csv', '005180.csv', '570031.csv', '300640.csv', '002870.csv', '071970.csv', '034020.csv', '363580.csv', '071090.csv', '289250.csv', '003550.csv', '520003.csv', '001510.csv', '014280.csv', '360750.csv', '003720.csv', '025750.csv', '004890.csv', '005390.csv', '570048.csv', '342140.csv', '007280.csv', '74401777.csv', '520014.csv', '261120.csv', '064960.csv', '239660.csv', '520009.csv', '289040.csv', '089470.csv', '251590.csv', '75701B93.csv', '000105.csv', '530068.csv', '610023.csv', '000540.csv', '419890.csv', '000480.csv', '500024.csv', '520026.csv', '005820.csv', '012280.csv', '002995.csv', '385540.csv', '550063.csv', '04267217.csv', '278530.csv', '322410.csv', '023450.csv', '001515.csv', '001750.csv', '015590.csv', '422420.csv', '426030.csv', '266370.csv', '500029.csv', '75801BBC.csv', '228790.csv', '010780.csv', '306950.csv', '122630.csv', '610021.csv', '331910.csv', '429760.csv', '72802BBC.csv', '079430.csv', '035720.csv', '004970.csv', '000640.csv', '385510.csv', '010620.csv', '357120.csv', '570063.csv', '354240.csv', '012205.csv', '077970.csv', '002600.csv', '009070.csv', '238670.csv', '700007.csv', '520043.csv', '570065.csv', '75702B93.csv', '411420.csv', '75901BB7.csv', '428510.csv', '003230.csv', '000890.csv', '360140.csv', '010770.csv', '75802BBC.csv', '004370.csv', '530077.csv', '337120.csv', '530036.csv', '069500.csv', '120115.csv', '70102B96.csv', '419420.csv', '089590.csv', '500015.csv', '307010.csv', '108450.csv', '266550.csv', '244620.csv', '236350.csv', '075180.csv', '322000.csv', '009835.csv', '277540.csv', '500011.csv', '75702BA7.csv', '102110.csv', '013360.csv', '306200.csv', '020760.csv', '261920.csv', '329650.csv', '027410.csv', '237370.csv', '039490.csv', '010050.csv', '069260.csv', '138930.csv', '005960.csv', '73501BA2.csv', '195870.csv', '015020.csv', '580032.csv', '500016.csv', '006390.csv', '292500.csv', '352560.csv', '417630.csv', '309210.csv', '078930.csv', '004060.csv', '183700.csv', '218420.csv', '011200.csv', '74701B9A.csv', '570071.csv', '520036.csv', '139280.csv', '003830.csv', '570042.csv', '001210.csv', '376250.csv', '014680.csv', '391680.csv', '334700.csv', '404650.csv', '000500.csv', '102960.csv', '139310.csv', '700003.csv', '520047.csv', '245710.csv', '118000.csv', '580034.csv', '00088K.csv', '001800.csv', '269530.csv', '001560.csv', '005740.csv', '700011.csv', '181480.csv', '520045.csv', '610037.csv', '391590.csv', '000087.csv', '002350.csv', '084010.csv', '275290.csv', '017940.csv', '900140.csv', '011420.csv', '00806K.csv', '152500.csv', '014820.csv', '005250.csv', '003465.csv', '000040.csv', '363510.csv', '580024.csv', '016360.csv', '001380.csv', '017180.csv', '252670.csv', '051915.csv', '139230.csv', '009680.csv', '169950.csv', '160580.csv', '300720.csv', '012600.csv', '261220.csv', '000970.csv', '123700.csv', '005320.csv', '009420.csv', '0340221B.csv', '123690.csv', '130730.csv', '610022.csv', '407160.csv', '000590.csv', '000145.csv', '010420.csv', '089860.csv', '277640.csv', '084870.csv', '295040.csv', '510007.csv', '192720.csv', '182480.csv', '003547.csv', '530016.csv', '007815.csv', '002785.csv', '500013.csv', '365550.csv', '00532219.csv', '530070.csv', '204210.csv', '259960.csv', '276000.csv', '103140.csv', '329660.csv', '380340.csv', '117580.csv', '185680.csv', '097230.csv', '550067.csv', '100840.csv', '047400.csv', '004710.csv', '520050.csv', '168580.csv', '1806421A.csv', '272230.csv', '580017.csv', '71902B92.csv', '002025.csv', '298000.csv', '030610.csv', '006060.csv', '014710.csv', '72501BB4.csv', '128940.csv', '279540.csv', '530075.csv', '33626L.csv', '251890.csv', '000215.csv', '016880.csv', '006840.csv', '292560.csv', '580011.csv', '006740.csv', '70101781.csv', '280360.csv', '395290.csv', '109070.csv', '011170.csv', '610001.csv', '126560.csv', '008110.csv', '500068.csv', '580030.csv', '000880.csv', '099140.csv', '700016.csv', '005500.csv', '088260.csv', '002270.csv', '570058.csv', '73502BB4.csv', '404990.csv', '091180.csv', '73501BBC.csv', '249420.csv', '014285.csv', '74202B98.csv', '570079.csv', '357870.csv', '244920.csv', '105010.csv', '033920.csv', '105190.csv', '001065.csv', '390400.csv', '130660.csv', '002690.csv', '500014.csv', '225040.csv', '004870.csv', '610036.csv', '145670.csv', '139660.csv', '029530.csv', '007210.csv', '092440.csv', '319870.csv', '013570.csv', '005430.csv', '105840.csv', '005880.csv', '570067.csv', '004000.csv', '510004.csv', '72502BB4.csv', '429010.csv', '550066.csv', '409820.csv', '395160.csv', '332940.csv', '077500.csv', '005380.csv', '004440.csv', '017390.csv', '002020.csv', '090435.csv', '411540.csv', '520034.csv', '005440.csv', '140570.csv', '28513K.csv', '034730.csv', '228810.csv', '302450.csv', '368590.csv', '280320.csv', '304940.csv', '368470.csv', '278540.csv', '500012.csv', '047040.csv', '510008.csv', '005720.csv', '550057.csv', '030720.csv', '033270.csv', '214420.csv', '005610.csv', '000680.csv', '011390.csv', '001360.csv', '145270.csv', '500063.csv', '052690.csv', '415760.csv', '051630.csv', '213630.csv', '500006.csv', '011230.csv', '267260.csv', '009970.csv', '413220.csv', '610026.csv', '004150.csv', '248170.csv', '041650.csv', '084690.csv', '381180.csv', '570032.csv', '283580.csv', '009240.csv', '001790.csv', '570025.csv', '306530.csv', '017810.csv', '001620.csv', '74401BAA.csv', '700013.csv', '003090.csv', '348950.csv', '006380.csv', '02826K.csv', '003240.csv', '012800.csv', '037270.csv', '025620.csv', '00306217.csv', '309230.csv', '023800.csv', '066570.csv', '030790.csv', '610012.csv', '095570.csv', '104700.csv', '399110.csv', '292770.csv', '530094.csv', '219900.csv', '271560.csv', '092220.csv', '092200.csv', '520015.csv', '004560.csv', '036420.csv', '423160.csv', '005870.csv', '253160.csv', '325020.csv', '034220.csv', '530019.csv', '006490.csv', '500064.csv', '367380.csv', '233740.csv', '003540.csv', '403790.csv', '009190.csv', '530080.csv', '010950.csv', '379810.csv', '530097.csv', '261250.csv', '093050.csv', '078000.csv', '009770.csv', '282000.csv', '332500.csv', '610017.csv', '415340.csv', '70101B9A.csv', '305080.csv', '039130.csv', '044380.csv', '500002.csv', '530014.csv', '580013.csv', '500041.csv', '500059.csv', '267270.csv', '100220.csv', '001060.csv', '008930.csv', '009275.csv', '157500.csv', '244670.csv', '510009.csv', '012320.csv', '000670.csv', '012330.csv', '028050.csv', '500065.csv', '520037.csv', '410870.csv', '000070.csv', '227840.csv', '004250.csv', '012160.csv', '407310.csv', '100910.csv', '371450.csv', '396510.csv', '285020.csv', '134790.csv', '271060.csv', '377190.csv', '279530.csv', '102970.csv', '157490.csv', '002795.csv', '144600.csv', '298340.csv', '010140.csv', '019170.csv', '005940.csv', '278420.csv', '385550.csv', '159800.csv', '354350.csv', '007460.csv', '00104K.csv', '33626K.csv', '267290.csv', '194370.csv', '271980.csv', '068400.csv', '000885.csv', '044450.csv', '001200.csv', '74401773.csv', '023590.csv', '610029.csv', '011210.csv', '161510.csv', '003530.csv', '024890.csv', '025560.csv', '227550.csv', '371150.csv', '207940.csv', '096760.csv', '229720.csv', '610028.csv', '285690.csv', '085620.csv', '272210.csv', '003780.csv', '404260.csv', '298040.csv', '0003021C.csv', '530086.csv', '007070.csv', '176710.csv', '520005.csv', '530002.csv', '032830.csv', '009160.csv', '015260.csv', '002210.csv', '019180.csv', '74702B8A.csv', '069730.csv', '251600.csv', '245350.csv', '008730.csv', '227560.csv', '950210.csv', '010580.csv', '00499K.csv', '404540.csv', '005800.csv', '002780.csv', '375760.csv', '001230.csv', '001250.csv', '570051.csv', '271050.csv', '367760.csv', '078935.csv', '225050.csv', '139240.csv', '152100.csv', '395760.csv', '091170.csv', '329200.csv', '005850.csv', '011790.csv', '550070.csv', '021050.csv', '266160.csv', '016580.csv', '009180.csv', '006570.csv', '252400.csv', '387280.csv', '007610.csv', '178920.csv', '002450.csv', '192080.csv', '314250.csv', '427120.csv', '114470.csv', '042700.csv', '401170.csv', '429000.csv', '011150.csv', '396520.csv', '407170.csv', '081000.csv', '241590.csv', '005070.csv', '000100.csv', '292730.csv', '580020.csv', '418670.csv', '004830.csv', '570022.csv', '019490.csv', '73501BB4.csv', '006405.csv', '580028.csv', '007660.csv', '107590.csv', '610014.csv', '387270.csv', '610009.csv', '032560.csv', '004170.csv', '404470.csv', '238720.csv', '021820.csv', '385600.csv', '530085.csv', '550045.csv', '004980.csv', '111770.csv', '419650.csv', '014915.csv', '105780.csv', '196030.csv', '550069.csv', '086790.csv', '029780.csv', '002460.csv', '015860.csv', '028670.csv', '002310.csv', '053690.csv', '004800.csv', '74704B96.csv', '530098.csv', '500001.csv', '014790.csv', '268280.csv', '530087.csv', '570074.csv', '195920.csv', '018880.csv', '005810.csv', '356540.csv', '280930.csv', '338100.csv', '580033.csv', '003680.csv', '025000.csv', '590018.csv', '019685.csv', '285000.csv', '007810.csv', '225130.csv', '580027.csv', '001530.csv', '139320.csv', '000080.csv', '70101B96.csv', '261070.csv', '006880.csv', '275300.csv', '093370.csv', '014530.csv', '003490.csv', '030200.csv', '066575.csv', '253150.csv', '417450.csv', '003160.csv', '376410.csv', '003555.csv', '325010.csv', '011930.csv', '226380.csv', '520010.csv', '334690.csv', '003580.csv', '71206B98.csv', '250780.csv', '423920.csv', '73503BB4.csv', '025820.csv', '123890.csv', '145850.csv', '500023.csv', '261240.csv', '025540.csv', '219480.csv', '400970.csv', '033250.csv', '520006.csv', '004270.csv', '003070.csv', '036460.csv', '550062.csv', '002630.csv', '267500.csv', '570077.csv', '368200.csv', '289670.csv', '004490.csv', '000720.csv', '000950.csv', '014910.csv', '510020.csv', '253290.csv', '321410.csv', '097955.csv', '74401769.csv', '280940.csv', '003300.csv', '100250.csv', '427110.csv', '241390.csv', '500007.csv', '610035.csv', '570057.csv', '520042.csv', '500055.csv', '008970.csv', '004105.csv', '610006.csv', '009310.csv', '123310.csv', '018250.csv', '423170.csv', '011700.csv', '024900.csv', '004700.csv', '570061.csv', '058650.csv', '71204B98.csv', '38380K.csv', '034310.csv', '005745.csv', '336260.csv', '00004217.csv', '037560.csv', '530084.csv', '015360.csv', '418660.csv', '029460.csv', '002960.csv', '610007.csv', '760001.csv', '094800.csv', '001755.csv', '120030.csv', '010640.csv', '71902BBC.csv', '002790.csv', '114820.csv', '530076.csv', '000020.csv', '003535.csv', '365780.csv', '068290.csv', '273130.csv', '233160.csv', '005420.csv', '293940.csv', '021240.csv', '530071.csv', '580022.csv', '058730.csv', '001020.csv', '530088.csv', '610041.csv', '364980.csv', '570023.csv', '078520.csv', '000230.csv', '003545.csv', '339770.csv', '017670.csv', '500003.csv', '217770.csv', '000155.csv', '610002.csv', '002787.csv', '007690.csv', '014440.csv', '75601BA2.csv', '000860.csv', '155900.csv', '006400.csv', '610034.csv', '530093.csv', '333970.csv', '381970.csv', '70102BA2.csv', '287180.csv', '416090.csv', '510011.csv', '003220.csv', '011760.csv', '407300.csv', '134380.csv', '007160.csv', '117460.csv', '001680.csv', '304770.csv', '032350.csv', '304660.csv', '269370.csv', '006800.csv', '001130.csv', '251350.csv', '261140.csv', '610031.csv', '391600.csv', '011780.csv', '18064K.csv', '145720.csv', '123320.csv', '069960.csv', '002320.csv', '241560.csv', '005030.csv', '530100.csv', '001630.csv', '269540.csv', '354500.csv', '226980.csv', '292340.csv', '051900.csv', '570069.csv', '122090.csv', '500009.csv', '001440.csv', '002070.csv', '375500.csv', '253280.csv', '261270.csv', '365040.csv', '084670.csv', '002720.csv', '256450.csv', '002840.csv', '243890.csv', '267850.csv', '203780.csv', '7420177B.csv', '610010.csv', '002990.csv', '500050.csv', '148020.csv', '71201B98.csv', '520004.csv', '095720.csv', '33637L.csv', '072710.csv', '248270.csv', '079160.csv', '117690.csv', '012750.csv', '030000.csv', '232080.csv', '570059.csv', '281990.csv', '70101B95.csv', '21433218.csv', '278240.csv', '092230.csv', '00781K.csv', '610024.csv', '245340.csv', '580021.csv', '000075.csv', '008490.csv', '002700.csv', '001120.csv', '000490.csv', '001770.csv', '003470.csv', '001550.csv', '71208B98.csv', '248070.csv', '700010.csv', '012030.csv', '000150.csv', '005110.csv', '364960.csv', '610032.csv', '007570.csv', '008420.csv', '204450.csv', '055550.csv', '155660.csv', '010100.csv', '136490.csv', '071050.csv', '500040.csv', '014580.csv', '102260.csv', '004990.csv', '334890.csv', '402520.csv', '035250.csv', '293180.csv', '430500.csv', '300950.csv', '510014.csv', '150460.csv', '000815.csv', '156080.csv', '500067.csv', '082640.csv', '390950.csv', '039570.csv', '096775.csv', '016710.csv', '001080.csv', '130680.csv', '096770.csv', '357430.csv', '057050.csv', '700004.csv', '005010.csv', '088350.csv', '019175.csv', '74201B98.csv', '298020.csv', '003620.csv', '341850.csv', '388280.csv', '550071.csv', '030210.csv', '018670.csv', '211560.csv', '025530.csv', '500017.csv', '251340.csv', '500037.csv', '00279K.csv', '002380.csv', '510016.csv', '005750.csv', '026960.csv', '570072.csv', '006110.csv', '570064.csv', '108675.csv', '004090.csv', '001725.csv', '291680.csv', '016590.csv', '281820.csv', '002240.csv', '016610.csv', '530090.csv', '140700.csv', '004430.csv', '610016.csv', '010820.csv', '74601669.csv', '550064.csv', '104530.csv', '266360.csv', '234080.csv', '74701789.csv', '024720.csv', '290080.csv', '003460.csv', '520007.csv', '530081.csv', '036530.csv', '001745.csv', '289480.csv', '337150.csv', '570027.csv', '252730.csv', '161000.csv', '005725.csv', '008040.csv', '000050.csv', '429870.csv', '580037.csv', '000270.csv', '402340.csv', '74703B96.csv', '013700.csv', '329670.csv', '360150.csv', '500018.csv', '152550.csv', '008870.csv', '002420.csv', '007575.csv', '013890.csv', '227570.csv', '092780.csv', '411060.csv', '75802BB4.csv', '210540.csv', '500062.csv', '352540.csv', '234310.csv', '003570.csv', '031440.csv', '200880.csv', '011785.csv', '305720.csv', '570052.csv', '520039.csv', '004770.csv', '383220.csv', '004255.csv', '301410.csv', '580015.csv', '580025.csv', '375270.csv', '101140.csv', '005830.csv', '287310.csv', '139990.csv', '275280.csv', '051910.csv', '510005.csv', '300610.csv', '012170.csv', '168490.csv', '520035.csv', '114090.csv', '72502773.csv', '276970.csv', '004985.csv', '009540.csv', '267770.csv', '004835.csv', '003610.csv', '530089.csv', '292190.csv', '310080.csv', '292750.csv', '034830.csv', '610004.csv', '020000.csv', '520049.csv', '008355.csv', '530053.csv', '261060.csv', '096300.csv', '010040.csv', '530055.csv', '72802BB4.csv', '215620.csv', '570044.csv', '008770.csv', '336160.csv', '001340.csv', '010660.csv', '020120.csv', '137930.csv', '000725.csv', '018260.csv', '252410.csv', '75801BB4.csv', '003690.csv', '385590.csv', '70102786.csv', '000810.csv', '390390.csv', '71902B9B.csv', '295020.csv', '010960.csv', '213500.csv', '033530.csv', '098560.csv', '314700.csv', '291890.csv', '375770.csv', '019440.csv', '74204B98.csv', '101280.csv', '006360.csv', '000220.csv', '033780.csv', '012630.csv', '322120.csv', '7420277B.csv', '411050.csv', '005965.csv', '037710.csv', '168300.csv', '006340.csv', '004080.csv', '008250.csv', '570068.csv', '007590.csv', '143210.csv', '227830.csv', '298690.csv', '002900.csv', '189400.csv', '131890.csv', '394660.csv', '008260.csv', '307520.csv', '018500.csv', '520011.csv', '520040.csv', '006980.csv', '004365.csv', '192820.csv', '031820.csv', '371470.csv', '214330.csv', '580016.csv', '610040.csv', '016800.csv', '002410.csv', '102780.csv', '520048.csv', '001045.csv', '700008.csv', '004840.csv', '520013.csv', '292150.csv', '530082.csv', '391670.csv', '070960.csv', '316670.csv', '069460.csv', '295820.csv', '337140.csv', '326240.csv', '610019.csv', '301440.csv', '71202B98.csv', '014160.csv', '017900.csv', '091160.csv', '510018.csv', '700015.csv', '700012.csv', '37550L.csv', '000430.csv', '128820.csv', '009155.csv', '70101BA2.csv', '084680.csv', '70101BA7.csv', '119650.csv', '00121218.csv', '001430.csv', '001067.csv', '036580.csv', '372910.csv', '280920.csv', '001520.csv', '014990.csv', '372330.csv', '293480.csv', '251270.csv', '292160.csv', '012510.csv', '271940.csv', '530015.csv', '104520.csv', '004690.csv', '570028.csv', '005935.csv', '75701BA7.csv', '002920.csv', '373530.csv', '276650.csv', '414270.csv', '74702B96.csv', '700009.csv', '223190.csv', '530062.csv', '009830.csv', '570043.csv', '009470.csv', '129260.csv', '003350.csv', '530067.csv', '250730.csv', '002880.csv', '500060.csv', '015540.csv', '001940.csv', '138230.csv', '007540.csv', '003850.csv', '001820.csv', '266390.csv', '261110.csv', '025890.csv', '500066.csv', '396500.csv', '051600.csv', '012450.csv', '500004.csv', '419430.csv', '004720.csv', '091220.csv', '196230.csv', '003480.csv', '140580.csv', '530078.csv', '005387.csv', '285130.csv', '402970.csv', '205720.csv', '004540.csv', '002100.csv', '244580.csv', '282330.csv', '004020.csv', '379800.csv', '228800.csv', '007860.csv', '007340.csv', '002810.csv', '007120.csv', '139290.csv', '058850.csv', '530061.csv', '027970.csv', '333950.csv', '500057.csv', '006220.csv', '245360.csv', '049800.csv', '042670.csv', '361610.csv', '138910.csv', '102280.csv', '610039.csv', '282690.csv', '005950.csv', '510003.csv', '004380.csv', '329180.csv', '000660.csv', '147970.csv', '71203B98.csv', '35320K.csv', '610042.csv', '009580.csv', '550068.csv', '019680.csv', '002360.csv', '034590.csv', '170900.csv', '001685.csv', '005389.csv', '371460.csv', '003120.csv', '210780.csv', '417310.csv', '011500.csv', '174360.csv', '000120.csv', '003560.csv', '272450.csv', '500030.csv', '383800.csv', '138530.csv', '034120.csv', '415920.csv', '530096.csv', '000545.csv', '360200.csv', '001260.csv', '610030.csv', '181710.csv', '102460.csv', '000227.csv', '412770.csv', '0048721A.csv', '381570.csv', '009150.csv', '071055.csv', '315930.csv', '000140.csv', '011280.csv', '036570.csv', '298050.csv', '364990.csv', '136340.csv', '570073.csv', '610003.csv', '424460.csv', '272220.csv', '253250.csv', '001570.csv', '001140.csv', '001740.csv', '26490K.csv', '047050.csv', '003920.csv', '003495.csv', '006200.csv', '152870.csv', '161890.csv', '195930.csv', '229200.csv', '053210.csv', '70101BB1.csv', '332610.csv', '058430.csv', '411860.csv', '272910.csv', '011810.csv', '139250.csv', '500035.csv', '308620.csv', '111110.csv', '101530.csv', '009810.csv', '004565.csv', '306520.csv', '114460.csv', '017370.csv', '307510.csv', '520033.csv', '033240.csv', '379780.csv', '610020.csv', '225030.csv', '002620.csv', '006260.csv', '530095.csv', '009200.csv', '017960.csv', '317400.csv', '74702786.csv', '067830.csv', '192650.csv', '371130.csv', '122900.csv', '500056.csv', '063160.csv', '302190.csv', '248260.csv', '530020.csv', '278620.csv', '412560.csv', '580014.csv', '060980.csv', '401470.csv', '388420.csv', '210980.csv', '272550.csv', '570078.csv', '004310.csv', '185750.csv', '530092.csv', '291630.csv', '500027.csv', '570062.csv', '359210.csv', '153270.csv', '71902B96.csv', '079550.csv', '71207B98.csv', '71901BBC.csv', '004100.csv', '074610.csv', '000400.csv', '003080.csv', '253230.csv', '002760.csv', '00680K.csv', '72502BBC.csv', '550060.csv', '145210.csv', '72501BBC.csv', '195970.csv', '133690.csv', '310970.csv', '161390.csv', '610018.csv', '204480.csv', '004415.csv', '075580.csv', '75602BA2.csv', '307950.csv', '011330.csv', '395750.csv', '090080.csv', '020150.csv', '008775.csv', '500019.csv', '026890.csv', '72501773.csv', '140710.csv', '114260.csv', '112610.csv', '580010.csv', '364690.csv', '000910.csv', '328370.csv', '363570.csv', '225060.csv', '004910.csv', '002220.csv', '530073.csv', '090355.csv', '610011.csv', '550043.csv', '500054.csv', '400590.csv', '285010.csv', '153130.csv', '407820.csv', '004140.csv', '330590.csv', '395170.csv', '105560.csv', '009410.csv', '084695.csv', '145990.csv', '289260.csv', '310960.csv', '001527.csv', '214390.csv', '500020.csv', '530064.csv', '323410.csv', '145995.csv', '570050.csv', '000995.csv', '333940.csv', '520046.csv', '014130.csv', '000990.csv', '530099.csv', '003520.csv', '017040.csv', '163560.csv', '007700.csv', '023960.csv', '237440.csv', '017550.csv', '550041.csv', '580035.csv', '000210.csv', '510017.csv', '058860.csv', '009450.csv', '028260.csv', '157450.csv', '71903B92.csv', '120110.csv', '500061.csv', '009440.csv', '001720.csv', '016385.csv', '432840.csv', '006120.csv', '256440.csv', '344820.csv', '004410.csv', '407830.csv', '290130.csv', '005305.csv', '319640.csv', '005257.csv', '364970.csv', '000700.csv', '570047.csv', '272580.csv', '357250.csv', '001500.csv', '002200.csv', '182490.csv', '570056.csv', '008600.csv', '252000.csv', '385720.csv', '003410.csv', '097520.csv', '429740.csv', '72801BB4.csv', '570045.csv', '336370.csv', '007310.csv', '500032.csv', '570029.csv', '010120.csv', '700002.csv', '361580.csv', '346000.csv', '042660.csv', '086280.csv', '530031.csv', '016090.csv', '003280.csv', '428560.csv', '610005.csv', '71903B96.csv', '385560.csv', '183710.csv', '295000.csv', '011070.csv', '091230.csv', '009270.csv', '010600.csv', '005490.csv', '003650.csv', '219390.csv', '550044.csv', '007110.csv', '003925.csv', '010955.csv', '530079.csv', '71901BB4.csv', '108670.csv', '016740.csv', '385710.csv', '580019.csv', '72501BA2.csv', '413930.csv', '091090.csv', '700001.csv', '002355.csv', '367770.csv', '530023.csv', '000370.csv', '192400.csv', '367740.csv', '006040.csv', '500058.csv', '017800.csv', '284990.csv', '083420.csv', '395400.csv', '402460.csv', '419170.csv', '008350.csv', '001040.csv', '500053.csv', '000325.csv', '049770.csv', '055490.csv', '400570.csv', '365000.csv', '006805.csv', '580023.csv', '70103B96.csv', '530056.csv', '000547.csv', '005360.csv', '70101786.csv', '018470.csv', '024110.csv', '010690.csv', '004920.csv', '530063.csv', '195980.csv', '71201B97.csv', '152380.csv', '570070.csv', '333960.csv', '069620.csv', '378850.csv', '252650.csv', '400760.csv', '004960.csv', '256750.csv', '016380.csv', '71901B9B.csv', '064350.csv', '014825.csv', '530083.csv', '74201BAA.csv', '000390.csv', '394340.csv', '570049.csv', '138520.csv', '008560.csv', '072130.csv', '082740.csv', '74203B98.csv', '71901B96.csv', '550042.csv', '093240.csv', '005385.csv', '044820.csv', '73503BA2.csv', '003475.csv', '143860.csv', '225800.csv', '252720.csv', '192090.csv', '047810.csv', '000180.csv', '363280.csv', '009140.csv', '276990.csv', '570046.csv', '500038.csv', '610008.csv', '385520.csv', '023810.csv', '190620.csv', '422260.csv', '426150.csv', '139260.csv', '001460.csv', '024070.csv', '275750.csv', '322400.csv', '000650.csv', '004545.csv', '252710.csv', '411720.csv', '381560.csv', '023150.csv', '287300.csv', '333980.csv', '368680.csv', '305050.csv', '138490.csv', '000850.csv', '000300.csv', '143850.csv', '026940.csv', '001465.csv', '394670.csv', '580026.csv', '326230.csv', '137310.csv', '000760.csv', '000520.csv', '114100.csv', '025860.csv', '114800.csv', '013000.csv', '409810.csv', '081660.csv', '035000.csv', '226320.csv', '71205B98.csv', '011090.csv', '073240.csv', '228820.csv', '291620.csv', '001420.csv', '70101B99.csv', '373790.csv', '010400.csv', '229640.csv', '000225.csv', '510002.csv', '002170.csv', '035510.csv', '167860.csv', '103590.csv', '267490.csv', '009460.csv', '287320.csv', '308170.csv', '003200.csv', '088790.csv', '580018.csv', '332930.csv', '33637K.csv', '138920.csv', '005090.csv', '550061.csv', '253240.csv', '015230.csv', '350520.csv', '270810.csv', '003960.csv', '140950.csv', '010130.csv', '510019.csv', '226490.csv', '530072.csv', '012200.csv', '277650.csv', '094280.csv', '132030.csv', '005680.csv', '73502BA2.csv', '006370.csv', '500010.csv', '275980.csv', '266420.csv', '227540.csv', '373490.csv', '414780.csv', '079980.csv', '115390.csv', '610038.csv', '004360.csv', '138540.csv', '74701B97.csv', '015760.csv', '023530.csv', '003010.csv', '006890.csv', '304760.csv', '243880.csv', '010060.csv', '090350.csv', '214980.csv', '117680.csv', '200250.csv', '610015.csv', '570055.csv', '213610.csv', '399580.csv', '071840.csv', '122260.csv', '068270.csv', '269420.csv', '550065.csv', '023000.csv', '315480.csv', '302440.csv', '610013.csv', '500028.csv', '009320.csv', '174350.csv', '014830.csv', '001390.csv', '001529.csv', '008060.csv', '028100.csv', '024090.csv', '326030.csv', '403990.csv', '316300.csv', '500036.csv', '011300.csv', '530074.csv', '368190.csv', '322150.csv', '426410.csv', '001880.csv', '610033.csv', '244660.csv', '011690.csv', '610027.csv', '381170.csv', '034300.csv', '03473K.csv', '001275.csv', '001470.csv', '337160.csv', '051905.csv', '264900.csv', '380440.csv', '510006.csv', '394350.csv', '013520.csv', '74702776.csv', '005690.csv', '510015.csv', '006090.csv', '003030.csv', '332620.csv', '530060.csv', '137610.csv', '267440.csv', '305540.csv', '291130.csv', '500051.csv', '020560.csv', '74202BAA.csv', '001270.csv', '012610.csv', '74201773.csv', '700014.csv', '292050.csv', '570053.csv', '105630.csv', '009900.csv', '027740.csv', '237350.csv', '002710.csv', '426020.csv', '500005.csv', '404120.csv', '299070.csv', '286940.csv', '005930.csv', '139130.csv', '37550K.csv', '371160.csv', '530091.csv', '001780.csv', '013580.csv', '397410.csv', '001450.csv', '352820.csv', '530066.csv', '395150.csv', '397420.csv', '377300.csv', '273140.csv', '432850.csv', '266410.csv', '002820.csv', '241180.csv']\n"
          ]
        }
      ],
      "source": [
        "print(file_list)"
      ]
    },
    {
      "cell_type": "code",
      "execution_count": 13,
      "metadata": {
        "id": "CLyeP-2dTGfH"
      },
      "outputs": [],
      "source": [
        "folder = \"kospi_price\"\n",
        "if not os.path.isdir(folder):\n",
        "    os.mkdir(folder)"
      ]
    },
    {
      "cell_type": "code",
      "execution_count": null,
      "metadata": {},
      "outputs": [],
      "source": []
    },
    {
      "cell_type": "code",
      "execution_count": null,
      "metadata": {
        "colab": {
          "base_uri": "https://localhost:8080/"
        },
        "id": "HyHFzLV-TLol",
        "outputId": "d913302c-4032-4a04-c92a-af5c8a84515f"
      },
      "outputs": [],
      "source": [
        "'''\n",
        "    Kospi data csv create code\n",
        "'''\n",
        "\n",
        "\n",
        "\n",
        "# for ix, row in df_kospi.iterrows():\n",
        "#     sym, name = row['Symbol'], row['Name']\n",
        "#     csv_fn = os.path.join(folder, f'{sym}.csv')\n",
        "#     if os.path.exists(csv_fn):\n",
        "#         print('skip', csv_fn)\n",
        "#         continue\n",
        "\n",
        "#     try:\n",
        "#       print(csv_fn, end=' ')\n",
        "#       df = fdr.DataReader(sym, '2021-01-01', '2022-06-10')\n",
        "#       df['Symbol'] = sym\n",
        "#       print(len(df), 'rows')\n",
        "#       df.to_csv(csv_fn, quoting=csv.QUOTE_MINIMAL)\n",
        "#     except ValueError as e:\n",
        "#       print(e)\n",
        "#     except IndexError as e:\n",
        "#       print(e)"
      ]
    },
    {
      "cell_type": "markdown",
      "metadata": {},
      "source": []
    },
    {
      "cell_type": "code",
      "execution_count": 15,
      "metadata": {},
      "outputs": [],
      "source": [
        "# df_csv = pd.DataFrame()\n",
        "# for i in file_list_py:\n",
        "#     data = pd.read_csv(path+i)\n",
        "#     df_csv = pd.concat([df,data])\n",
        "\n",
        "# df_csv = df_csv.reset_index(drop = True)"
      ]
    },
    {
      "cell_type": "code",
      "execution_count": 16,
      "metadata": {
        "colab": {
          "base_uri": "https://localhost:8080/",
          "height": 237
        },
        "id": "ah55UoulriDN",
        "outputId": "5a290756-295a-4e2f-a22b-58f5d74afc1b"
      },
      "outputs": [],
      "source": [
        "# sym = '000020'\n",
        "# csv_fn = os.path.join(folder, f'{sym}.csv')\n",
        "# mmm = pd.read_csv(csv_fn, parse_dates=True, index_col='Date')\n",
        "\n",
        "# mmm.head()\n",
        "# mmm.truncate(before='2022-05-02',axis=0)"
      ]
    },
    {
      "cell_type": "code",
      "execution_count": 17,
      "metadata": {},
      "outputs": [],
      "source": [
        "# mmm.tail()"
      ]
    },
    {
      "cell_type": "code",
      "execution_count": 18,
      "metadata": {
        "colab": {
          "base_uri": "https://localhost:8080/",
          "height": 138
        },
        "id": "7fYszAhashdx",
        "outputId": "b6fc9adc-92f7-4797-e755-818ac141559d"
      },
      "outputs": [],
      "source": [
        "# df_plot = pd.DataFrame(mmm={x='High', y='Low'})\n",
        "# df2 = df_plot.loc[:['High','Low']]\n",
        "# # df_plot['000020'] = 000020['Close']\n",
        "\n",
        "# # df_plot = df_plot / df_plot.iloc[0] - 1.0\n",
        "# # df_plot.plot()\n",
        "\n",
        "# df2.plot()\n",
        "# plt.show()\n",
        "\n",
        "# df_test2 = df_test[['Close']]\n",
        "\n",
        "# df_test2.truncate(before='2022-05-02',axis=0).plot()\n",
        "# plt.show()"
      ]
    },
    {
      "cell_type": "code",
      "execution_count": 19,
      "metadata": {},
      "outputs": [],
      "source": [
        "from sklearn.preprocessing import MinMaxScaler\n",
        "\n",
        "from sklearn.model_selection import train_test_split\n",
        "\n",
        "import tensorflow as tf"
      ]
    },
    {
      "cell_type": "code",
      "execution_count": 20,
      "metadata": {},
      "outputs": [],
      "source": [
        "def windowed_dataset(series, window_size, batch_size, shuffle):\n",
        "    series = tf.expand_dims(series, axis=-1)\n",
        "    ds = tf.data.Dataset.from_tensor_slices(series)\n",
        "    ds = ds.window(window_size + 1, shift=1, drop_remainder=True)\n",
        "    ds = ds.flat_map(lambda w: w.batch(window_size + 1))\n",
        "    if shuffle:\n",
        "        ds = ds.shuffle(1000)\n",
        "    ds = ds.map(lambda w: (w[:-1], w[-1]))\n",
        "    return ds.batch(batch_size).prefetch(1)"
      ]
    },
    {
      "cell_type": "code",
      "execution_count": 21,
      "metadata": {},
      "outputs": [],
      "source": [
        "WINDOW_SIZE=20\n",
        "BATCH_SIZE=4"
      ]
    },
    {
      "cell_type": "code",
      "execution_count": 22,
      "metadata": {},
      "outputs": [
        {
          "name": "stderr",
          "output_type": "stream",
          "text": [
            "2022-06-15 03:39:06.885347: I tensorflow/stream_executor/cuda/cuda_gpu_executor.cc:975] successful NUMA node read from SysFS had negative value (-1), but there must be at least one NUMA node, so returning NUMA node zero\n",
            "2022-06-15 03:39:06.984326: I tensorflow/stream_executor/cuda/cuda_gpu_executor.cc:975] successful NUMA node read from SysFS had negative value (-1), but there must be at least one NUMA node, so returning NUMA node zero\n",
            "2022-06-15 03:39:06.984569: I tensorflow/stream_executor/cuda/cuda_gpu_executor.cc:975] successful NUMA node read from SysFS had negative value (-1), but there must be at least one NUMA node, so returning NUMA node zero\n",
            "2022-06-15 03:39:06.985595: I tensorflow/core/platform/cpu_feature_guard.cc:193] This TensorFlow binary is optimized with oneAPI Deep Neural Network Library (oneDNN) to use the following CPU instructions in performance-critical operations:  AVX2 FMA\n",
            "To enable them in other operations, rebuild TensorFlow with the appropriate compiler flags.\n",
            "2022-06-15 03:39:06.986491: I tensorflow/stream_executor/cuda/cuda_gpu_executor.cc:975] successful NUMA node read from SysFS had negative value (-1), but there must be at least one NUMA node, so returning NUMA node zero\n",
            "2022-06-15 03:39:06.986626: I tensorflow/stream_executor/cuda/cuda_gpu_executor.cc:975] successful NUMA node read from SysFS had negative value (-1), but there must be at least one NUMA node, so returning NUMA node zero\n",
            "2022-06-15 03:39:06.986742: I tensorflow/stream_executor/cuda/cuda_gpu_executor.cc:975] successful NUMA node read from SysFS had negative value (-1), but there must be at least one NUMA node, so returning NUMA node zero\n",
            "2022-06-15 03:39:07.671907: I tensorflow/stream_executor/cuda/cuda_gpu_executor.cc:975] successful NUMA node read from SysFS had negative value (-1), but there must be at least one NUMA node, so returning NUMA node zero\n",
            "2022-06-15 03:39:07.672066: I tensorflow/stream_executor/cuda/cuda_gpu_executor.cc:975] successful NUMA node read from SysFS had negative value (-1), but there must be at least one NUMA node, so returning NUMA node zero\n",
            "2022-06-15 03:39:07.672185: I tensorflow/stream_executor/cuda/cuda_gpu_executor.cc:975] successful NUMA node read from SysFS had negative value (-1), but there must be at least one NUMA node, so returning NUMA node zero\n",
            "2022-06-15 03:39:07.672288: I tensorflow/core/common_runtime/gpu/gpu_device.cc:1532] Created device /job:localhost/replica:0/task:0/device:GPU:0 with 5655 MB memory:  -> device: 0, name: NVIDIA GeForce RTX 3060 Ti, pci bus id: 0000:08:00.0, compute capability: 8.6\n"
          ]
        }
      ],
      "source": [
        "from keras.models import Sequential\n",
        "from keras.layers import Dense, LSTM, Conv1D, Lambda\n",
        "from keras.losses import Huber\n",
        "from keras.optimizers import Adam\n",
        "from keras.callbacks import EarlyStopping, ModelCheckpoint\n",
        "\n",
        "\n",
        "model = Sequential([\n",
        "    # 1차원 feature map 생성\n",
        "    Conv1D(filters=32, kernel_size=5,\n",
        "           padding=\"causal\",\n",
        "           activation=\"relu\",\n",
        "           input_shape=[WINDOW_SIZE, 1]),\n",
        "    # LSTM\n",
        "    LSTM(16, activation='tanh'),\n",
        "    Dense(16, activation=\"relu\"),\n",
        "    Dense(1),\n",
        "])"
      ]
    },
    {
      "cell_type": "code",
      "execution_count": 23,
      "metadata": {},
      "outputs": [],
      "source": [
        "# Sequence 학습에 비교적 좋은 퍼포먼스를 내는 Huber()를 사용합니다.\n",
        "loss = Huber()\n",
        "optimizer = Adam(0.0005)\n",
        "model.compile(loss=Huber(), optimizer=optimizer, metrics=['mse'])"
      ]
    },
    {
      "cell_type": "code",
      "execution_count": 32,
      "metadata": {},
      "outputs": [],
      "source": [
        "# earlystopping은 10번 epoch동동안 val_loss 개선이 없다면 학습을 멈춥니다.\n",
        "earlystopping = EarlyStopping(monitor='val_loss', patience=10)\n",
        "# val_loss 기준 체크포인터도 생성합니다.\n",
        "filename = os.path.join('tmp', 'ckeckpointer.ckpt')\n",
        "checkpoint = ModelCheckpoint(filename, \n",
        "                             save_weights_only=True, \n",
        "                             save_best_only=True, \n",
        "                             monitor='val_loss', \n",
        "                             metrics=['accuracy'],\n",
        "                             verbose=1)"
      ]
    },
    {
      "cell_type": "code",
      "execution_count": 25,
      "metadata": {},
      "outputs": [],
      "source": [
        "accuracy_arr = np.array([])\n",
        "num = len(file_list)"
      ]
    },
    {
      "cell_type": "code",
      "execution_count": 46,
      "metadata": {},
      "outputs": [
        {
          "name": "stdout",
          "output_type": "stream",
          "text": [
            "Epoch 1/100\n",
            "     29/Unknown - 0s 4ms/step - loss: 4.1044e-04 - accuracy: 0.0086    "
          ]
        },
        {
          "name": "stderr",
          "output_type": "stream",
          "text": [
            "/tmp/ipykernel_4461/853924509.py:14: FutureWarning: In a future version of pandas all arguments of DataFrame.drop except for the argument 'labels' will be keyword-only.\n",
            "  x_train, x_test, y_train, y_test = train_test_split(df_pd.drop('Close', 1), df_pd['Close'], test_size=0.2, random_state=0, shuffle=False)\n"
          ]
        },
        {
          "name": "stdout",
          "output_type": "stream",
          "text": [
            "     61/Unknown - 0s 3ms/step - loss: 4.7518e-04 - accuracy: 0.0041\n",
            "Epoch 1: val_loss did not improve from 0.00045\n",
            "66/66 [==============================] - 0s 4ms/step - loss: 4.6329e-04 - accuracy: 0.0038 - val_loss: 0.0016 - val_accuracy: 0.0000e+00\n",
            "Epoch 2/100\n",
            "55/66 [========================>.....] - ETA: 0s - loss: 4.3879e-04 - accuracy: 0.0045    \n",
            "Epoch 2: val_loss did not improve from 0.00045\n",
            "66/66 [==============================] - 0s 4ms/step - loss: 4.2564e-04 - accuracy: 0.0038 - val_loss: 0.0017 - val_accuracy: 0.0000e+00\n",
            "Epoch 3/100\n",
            "62/66 [===========================>..] - ETA: 0s - loss: 4.2838e-04 - accuracy: 0.0040\n",
            "Epoch 3: val_loss did not improve from 0.00045\n",
            "66/66 [==============================] - 0s 4ms/step - loss: 4.2280e-04 - accuracy: 0.0038 - val_loss: 0.0010 - val_accuracy: 0.0000e+00\n",
            "Epoch 4/100\n",
            "54/66 [=======================>......] - ETA: 0s - loss: 4.0753e-04 - accuracy: 0.0046    \n",
            "Epoch 4: val_loss did not improve from 0.00045\n",
            "66/66 [==============================] - 0s 4ms/step - loss: 4.4774e-04 - accuracy: 0.0038 - val_loss: 0.0010 - val_accuracy: 0.0000e+00\n",
            "Epoch 5/100\n",
            "55/66 [========================>.....] - ETA: 0s - loss: 4.4284e-04 - accuracy: 0.0045\n",
            "Epoch 5: val_loss did not improve from 0.00045\n",
            "66/66 [==============================] - 0s 4ms/step - loss: 4.3908e-04 - accuracy: 0.0038 - val_loss: 0.0011 - val_accuracy: 0.0000e+00\n",
            "Epoch 6/100\n",
            "59/66 [=========================>....] - ETA: 0s - loss: 3.7910e-04 - accuracy: 0.0042    \n",
            "Epoch 6: val_loss did not improve from 0.00045\n",
            "66/66 [==============================] - 0s 3ms/step - loss: 3.9917e-04 - accuracy: 0.0038 - val_loss: 0.0011 - val_accuracy: 0.0000e+00\n",
            "Epoch 7/100\n",
            "61/66 [==========================>...] - ETA: 0s - loss: 3.9738e-04 - accuracy: 0.0041  \n",
            "Epoch 7: val_loss did not improve from 0.00045\n",
            "66/66 [==============================] - 0s 4ms/step - loss: 3.9340e-04 - accuracy: 0.0038 - val_loss: 0.0017 - val_accuracy: 0.0000e+00\n",
            "Epoch 8/100\n",
            "61/66 [==========================>...] - ETA: 0s - loss: 4.6979e-04 - accuracy: 0.0041  \n",
            "Epoch 8: val_loss did not improve from 0.00045\n",
            "66/66 [==============================] - 0s 4ms/step - loss: 4.6321e-04 - accuracy: 0.0038 - val_loss: 0.0028 - val_accuracy: 0.0000e+00\n",
            "Epoch 9/100\n",
            "53/66 [=======================>......] - ETA: 0s - loss: 4.4659e-04 - accuracy: 0.0000e+00\n",
            "Epoch 9: val_loss did not improve from 0.00045\n",
            "66/66 [==============================] - 0s 4ms/step - loss: 3.9757e-04 - accuracy: 0.0038 - val_loss: 0.0015 - val_accuracy: 0.0000e+00\n",
            "Epoch 10/100\n",
            "64/66 [============================>.] - ETA: 0s - loss: 4.1657e-04 - accuracy: 0.0039    \n",
            "Epoch 10: val_loss did not improve from 0.00045\n",
            "66/66 [==============================] - 0s 4ms/step - loss: 4.0968e-04 - accuracy: 0.0038 - val_loss: 0.0029 - val_accuracy: 0.0000e+00\n",
            "Epoch 11/100\n",
            "65/66 [============================>.] - ETA: 0s - loss: 4.4069e-04 - accuracy: 0.0038\n",
            "Epoch 11: val_loss did not improve from 0.00045\n",
            "66/66 [==============================] - 0s 4ms/step - loss: 4.3444e-04 - accuracy: 0.0038 - val_loss: 0.0014 - val_accuracy: 0.0000e+00\n",
            "Epoch 12/100\n",
            "62/66 [===========================>..] - ETA: 0s - loss: 3.8076e-04 - accuracy: 0.0040    \n",
            "Epoch 12: val_loss did not improve from 0.00045\n",
            "66/66 [==============================] - 0s 4ms/step - loss: 3.9020e-04 - accuracy: 0.0038 - val_loss: 0.0016 - val_accuracy: 0.0000e+00\n",
            "Epoch 13/100\n",
            "54/66 [=======================>......] - ETA: 0s - loss: 3.9608e-04 - accuracy: 0.0046\n",
            "Epoch 13: val_loss did not improve from 0.00045\n",
            "66/66 [==============================] - 0s 4ms/step - loss: 3.8161e-04 - accuracy: 0.0038 - val_loss: 0.0012 - val_accuracy: 0.0000e+00\n",
            "Epoch 14/100\n",
            "53/66 [=======================>......] - ETA: 0s - loss: 4.4012e-04 - accuracy: 0.0047  \n",
            "Epoch 14: val_loss did not improve from 0.00045\n",
            "66/66 [==============================] - 0s 4ms/step - loss: 4.0080e-04 - accuracy: 0.0038 - val_loss: 0.0015 - val_accuracy: 0.0000e+00\n"
          ]
        },
        {
          "ename": "ValueError",
          "evalue": "Failed to find data adapter that can handle input: <class 'pandas.core.frame.DataFrame'>, <class 'tensorflow.python.data.ops.dataset_ops.PrefetchDataset'>",
          "output_type": "error",
          "traceback": [
            "\u001b[0;31m---------------------------------------------------------------------------\u001b[0m",
            "\u001b[0;31mValueError\u001b[0m                                Traceback (most recent call last)",
            "\u001b[1;32m/home/harnadal/Desktop/Machine_learning/machine_learning.ipynb Cell 25'\u001b[0m in \u001b[0;36m<cell line: 1>\u001b[0;34m()\u001b[0m\n\u001b[1;32m     <a href='vscode-notebook-cell:/home/harnadal/Desktop/Machine_learning/machine_learning.ipynb#ch0000027?line=20'>21</a>\u001b[0m hist \u001b[39m=\u001b[39m model\u001b[39m.\u001b[39mfit(train_data, \n\u001b[1;32m     <a href='vscode-notebook-cell:/home/harnadal/Desktop/Machine_learning/machine_learning.ipynb#ch0000027?line=21'>22</a>\u001b[0m                 validation_data\u001b[39m=\u001b[39m(test_data), \n\u001b[1;32m     <a href='vscode-notebook-cell:/home/harnadal/Desktop/Machine_learning/machine_learning.ipynb#ch0000027?line=22'>23</a>\u001b[0m                 epochs\u001b[39m=\u001b[39m\u001b[39m100\u001b[39m, \n\u001b[1;32m     <a href='vscode-notebook-cell:/home/harnadal/Desktop/Machine_learning/machine_learning.ipynb#ch0000027?line=23'>24</a>\u001b[0m                 callbacks\u001b[39m=\u001b[39m[checkpoint, earlystopping])\n\u001b[1;32m     <a href='vscode-notebook-cell:/home/harnadal/Desktop/Machine_learning/machine_learning.ipynb#ch0000027?line=24'>25</a>\u001b[0m \u001b[39m# hist.history['acc']\u001b[39;00m\n\u001b[0;32m---> <a href='vscode-notebook-cell:/home/harnadal/Desktop/Machine_learning/machine_learning.ipynb#ch0000027?line=25'>26</a>\u001b[0m loss, acc \u001b[39m=\u001b[39m model\u001b[39m.\u001b[39;49mevaluate(x_test, test_data)\n\u001b[1;32m     <a href='vscode-notebook-cell:/home/harnadal/Desktop/Machine_learning/machine_learning.ipynb#ch0000027?line=26'>27</a>\u001b[0m \u001b[39mprint\u001b[39m(\u001b[39mf\u001b[39m\u001b[39m'\u001b[39m\u001b[39mloss=\u001b[39m\u001b[39m{\u001b[39;00mloss\u001b[39m}\u001b[39;00m\u001b[39m'\u001b[39m)\n\u001b[1;32m     <a href='vscode-notebook-cell:/home/harnadal/Desktop/Machine_learning/machine_learning.ipynb#ch0000027?line=27'>28</a>\u001b[0m \u001b[39mprint\u001b[39m(\u001b[39mf\u001b[39m\u001b[39m'\u001b[39m\u001b[39macc=\u001b[39m\u001b[39m{\u001b[39;00macc\u001b[39m}\u001b[39;00m\u001b[39m'\u001b[39m)\n",
            "File \u001b[0;32m~/anaconda3/envs/jupyter/lib/python3.9/site-packages/keras/utils/traceback_utils.py:67\u001b[0m, in \u001b[0;36mfilter_traceback.<locals>.error_handler\u001b[0;34m(*args, **kwargs)\u001b[0m\n\u001b[1;32m     <a href='file:///home/harnadal/anaconda3/envs/jupyter/lib/python3.9/site-packages/keras/utils/traceback_utils.py?line=64'>65</a>\u001b[0m \u001b[39mexcept\u001b[39;00m \u001b[39mException\u001b[39;00m \u001b[39mas\u001b[39;00m e:  \u001b[39m# pylint: disable=broad-except\u001b[39;00m\n\u001b[1;32m     <a href='file:///home/harnadal/anaconda3/envs/jupyter/lib/python3.9/site-packages/keras/utils/traceback_utils.py?line=65'>66</a>\u001b[0m   filtered_tb \u001b[39m=\u001b[39m _process_traceback_frames(e\u001b[39m.\u001b[39m__traceback__)\n\u001b[0;32m---> <a href='file:///home/harnadal/anaconda3/envs/jupyter/lib/python3.9/site-packages/keras/utils/traceback_utils.py?line=66'>67</a>\u001b[0m   \u001b[39mraise\u001b[39;00m e\u001b[39m.\u001b[39mwith_traceback(filtered_tb) \u001b[39mfrom\u001b[39;00m \u001b[39mNone\u001b[39m\n\u001b[1;32m     <a href='file:///home/harnadal/anaconda3/envs/jupyter/lib/python3.9/site-packages/keras/utils/traceback_utils.py?line=67'>68</a>\u001b[0m \u001b[39mfinally\u001b[39;00m:\n\u001b[1;32m     <a href='file:///home/harnadal/anaconda3/envs/jupyter/lib/python3.9/site-packages/keras/utils/traceback_utils.py?line=68'>69</a>\u001b[0m   \u001b[39mdel\u001b[39;00m filtered_tb\n",
            "File \u001b[0;32m~/anaconda3/envs/jupyter/lib/python3.9/site-packages/keras/engine/data_adapter.py:985\u001b[0m, in \u001b[0;36mselect_data_adapter\u001b[0;34m(x, y)\u001b[0m\n\u001b[1;32m    <a href='file:///home/harnadal/anaconda3/envs/jupyter/lib/python3.9/site-packages/keras/engine/data_adapter.py?line=981'>982</a>\u001b[0m adapter_cls \u001b[39m=\u001b[39m [\u001b[39mcls\u001b[39m \u001b[39mfor\u001b[39;00m \u001b[39mcls\u001b[39m \u001b[39min\u001b[39;00m ALL_ADAPTER_CLS \u001b[39mif\u001b[39;00m \u001b[39mcls\u001b[39m\u001b[39m.\u001b[39mcan_handle(x, y)]\n\u001b[1;32m    <a href='file:///home/harnadal/anaconda3/envs/jupyter/lib/python3.9/site-packages/keras/engine/data_adapter.py?line=982'>983</a>\u001b[0m \u001b[39mif\u001b[39;00m \u001b[39mnot\u001b[39;00m adapter_cls:\n\u001b[1;32m    <a href='file:///home/harnadal/anaconda3/envs/jupyter/lib/python3.9/site-packages/keras/engine/data_adapter.py?line=983'>984</a>\u001b[0m   \u001b[39m# TODO(scottzhu): This should be a less implementation-specific error.\u001b[39;00m\n\u001b[0;32m--> <a href='file:///home/harnadal/anaconda3/envs/jupyter/lib/python3.9/site-packages/keras/engine/data_adapter.py?line=984'>985</a>\u001b[0m   \u001b[39mraise\u001b[39;00m \u001b[39mValueError\u001b[39;00m(\n\u001b[1;32m    <a href='file:///home/harnadal/anaconda3/envs/jupyter/lib/python3.9/site-packages/keras/engine/data_adapter.py?line=985'>986</a>\u001b[0m       \u001b[39m\"\u001b[39m\u001b[39mFailed to find data adapter that can handle \u001b[39m\u001b[39m\"\u001b[39m\n\u001b[1;32m    <a href='file:///home/harnadal/anaconda3/envs/jupyter/lib/python3.9/site-packages/keras/engine/data_adapter.py?line=986'>987</a>\u001b[0m       \u001b[39m\"\u001b[39m\u001b[39minput: \u001b[39m\u001b[39m{}\u001b[39;00m\u001b[39m, \u001b[39m\u001b[39m{}\u001b[39;00m\u001b[39m\"\u001b[39m\u001b[39m.\u001b[39mformat(\n\u001b[1;32m    <a href='file:///home/harnadal/anaconda3/envs/jupyter/lib/python3.9/site-packages/keras/engine/data_adapter.py?line=987'>988</a>\u001b[0m           _type_name(x), _type_name(y)))\n\u001b[1;32m    <a href='file:///home/harnadal/anaconda3/envs/jupyter/lib/python3.9/site-packages/keras/engine/data_adapter.py?line=988'>989</a>\u001b[0m \u001b[39melif\u001b[39;00m \u001b[39mlen\u001b[39m(adapter_cls) \u001b[39m>\u001b[39m \u001b[39m1\u001b[39m:\n\u001b[1;32m    <a href='file:///home/harnadal/anaconda3/envs/jupyter/lib/python3.9/site-packages/keras/engine/data_adapter.py?line=989'>990</a>\u001b[0m   \u001b[39mraise\u001b[39;00m \u001b[39mRuntimeError\u001b[39;00m(\n\u001b[1;32m    <a href='file:///home/harnadal/anaconda3/envs/jupyter/lib/python3.9/site-packages/keras/engine/data_adapter.py?line=990'>991</a>\u001b[0m       \u001b[39m\"\u001b[39m\u001b[39mData adapters should be mutually exclusive for \u001b[39m\u001b[39m\"\u001b[39m\n\u001b[1;32m    <a href='file:///home/harnadal/anaconda3/envs/jupyter/lib/python3.9/site-packages/keras/engine/data_adapter.py?line=991'>992</a>\u001b[0m       \u001b[39m\"\u001b[39m\u001b[39mhandling inputs. Found multiple adapters \u001b[39m\u001b[39m{}\u001b[39;00m\u001b[39m to handle \u001b[39m\u001b[39m\"\u001b[39m\n\u001b[1;32m    <a href='file:///home/harnadal/anaconda3/envs/jupyter/lib/python3.9/site-packages/keras/engine/data_adapter.py?line=992'>993</a>\u001b[0m       \u001b[39m\"\u001b[39m\u001b[39minput: \u001b[39m\u001b[39m{}\u001b[39;00m\u001b[39m, \u001b[39m\u001b[39m{}\u001b[39;00m\u001b[39m\"\u001b[39m\u001b[39m.\u001b[39mformat(\n\u001b[1;32m    <a href='file:///home/harnadal/anaconda3/envs/jupyter/lib/python3.9/site-packages/keras/engine/data_adapter.py?line=993'>994</a>\u001b[0m           adapter_cls, _type_name(x), _type_name(y)))\n",
            "\u001b[0;31mValueError\u001b[0m: Failed to find data adapter that can handle input: <class 'pandas.core.frame.DataFrame'>, <class 'tensorflow.python.data.ops.dataset_ops.PrefetchDataset'>"
          ]
        }
      ],
      "source": [
        "for i in range(0, (num - 1)):\n",
        "    \n",
        "    csv_test = os.path.join(folder, file_list[i])\n",
        "    df_test = pd.read_csv(csv_test, parse_dates=True, index_col='Date')\n",
        "    \n",
        "    scaler = MinMaxScaler()\n",
        "    # 스케일을 적용할 column을 정의합니다.\n",
        "    scale_cols = ['Open', 'High', 'Low', 'Close', 'Volume']\n",
        "    # 스케일 후 columns\n",
        "    scaled = scaler.fit_transform(df_test[scale_cols])\n",
        "\n",
        "    df_pd = pd.DataFrame(scaled, columns=scale_cols)\n",
        "    \n",
        "    x_train, x_test, y_train, y_test = train_test_split(df_pd.drop('Close', 1), df_pd['Close'], test_size=0.2, random_state=0, shuffle=False)\n",
        "    \n",
        "    # trian_data는 학습용 데이터셋, test_data는 검증용 데이터셋 입니다.\n",
        "    train_data = windowed_dataset(y_train, WINDOW_SIZE, BATCH_SIZE, True)\n",
        "    test_data = windowed_dataset(y_test, WINDOW_SIZE, BATCH_SIZE, False)\n",
        "    \n",
        "    # model.compile(loss='mse', optimizer='adam', metrics=['accuracy'])\n",
        "    hist = model.fit(train_data, \n",
        "                    validation_data=(test_data), \n",
        "                    epochs=100, \n",
        "                    callbacks=[checkpoint, earlystopping])\n",
        "    # hist.history['acc']\n",
        "    loss, acc = model.evaluate(x_test, test_data)\n",
        "    print(f'loss={loss}')\n",
        "    print(f'acc={acc}')\n",
        "    # loss_and_metrics = model.evaluate(x = x_train, y = y_train, axis = 1)\n",
        "    accuracy_arr = np.append([file_list[i], acc])"
      ]
    },
    {
      "cell_type": "code",
      "execution_count": null,
      "metadata": {},
      "outputs": [
        {
          "data": {
            "text/plain": [
              "<tensorflow.python.training.tracking.util.CheckpointLoadStatus at 0x7f9ec4cd9a60>"
            ]
          },
          "execution_count": 108,
          "metadata": {},
          "output_type": "execute_result"
        }
      ],
      "source": [
        "model.load_weights(filename)"
      ]
    },
    {
      "cell_type": "code",
      "execution_count": null,
      "metadata": {},
      "outputs": [
        {
          "name": "stdout",
          "output_type": "stream",
          "text": [
            "13/13 [==============================] - 0s 2ms/step\n"
          ]
        }
      ],
      "source": [
        "pred = model.predict(test_data)"
      ]
    },
    {
      "cell_type": "code",
      "execution_count": null,
      "metadata": {},
      "outputs": [
        {
          "data": {
            "text/plain": [
              "(51, 1)"
            ]
          },
          "execution_count": 110,
          "metadata": {},
          "output_type": "execute_result"
        }
      ],
      "source": [
        "pred.shape"
      ]
    },
    {
      "cell_type": "markdown",
      "metadata": {},
      "source": [
        "## 예측 데이터 시각화"
      ]
    },
    {
      "cell_type": "code",
      "execution_count": null,
      "metadata": {},
      "outputs": [
        {
          "data": {
            "image/png": "[encoded data removed]",
            "text/plain": [
              "<Figure size 864x648 with 1 Axes>"
            ]
          },
          "metadata": {
            "needs_background": "light"
          },
          "output_type": "display_data"
        }
      ],
      "source": [
        "plt.figure(figsize=(12, 9))\n",
        "plt.plot(np.asarray(y_test)[20:], label='actual')\n",
        "plt.plot(pred, label='prediction')\n",
        "plt.legend()\n",
        "plt.show()"
      ]
    }
  ],
  "metadata": {
    "colab": {
      "collapsed_sections": [],
      "name": "Colaboratory에 오신 것을 환영합니다",
      "provenance": []
    },
    "interpreter": {
      "hash": "677b4e8d5c2713067ecfabc489a1b95d0331156a676ee09f8ce3a35bc6e9d0a6"
    },
    "kernelspec": {
      "display_name": "Python 3.9.12 ('jupyter')",
      "language": "python",
      "name": "python3"
    },
    "language_info": {
      "codemirror_mode": {
        "name": "ipython",
        "version": 3
      },
      "file_extension": ".py",
      "mimetype": "text/x-python",
      "name": "python",
      "nbconvert_exporter": "python",
      "pygments_lexer": "ipython3",
      "version": "3.9.12"
    }
  },
  "nbformat": 4,
  "nbformat_minor": 0
}
